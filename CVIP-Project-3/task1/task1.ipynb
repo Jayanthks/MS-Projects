{
 "cells": [
  {
   "cell_type": "code",
   "execution_count": 6,
   "metadata": {},
   "outputs": [
    {
     "name": "stdout",
     "output_type": "stream",
     "text": [
      "(310, 351)\n",
      "310 351\n",
      "255\n"
     ]
    },
    {
     "data": {
      "text/plain": [
       "True"
      ]
     },
     "execution_count": 6,
     "metadata": {},
     "output_type": "execute_result"
    }
   ],
   "source": [
    "import cv2\n",
    "import numpy as np\n",
    "org_img = cv2.imread('D:\\\\sem1\\\\cvip\\\\proj3\\\\original_imgs\\\\noise.jpg',0)\n",
    "img = org_img.copy()\n",
    "img2 = org_img.copy()\n",
    "img_len=img.shape\n",
    "print(img_len)\n",
    "r = img_len[0]\n",
    "c = img_len[1]\n",
    "print(img[250][150])\n",
    "#erosion\n",
    "def erosion(img):\n",
    "    w = img.shape[0]\n",
    "    h = img.shape[1]\n",
    "    dil = np.zeros((w,h))\n",
    "    for i in range(w):\n",
    "        for j in range(h):\n",
    "            if(img[i][j]==255):\n",
    "                if(i==0 or j ==0 or i==w-1 or j==h-1):\n",
    "                    continue\n",
    "            if( img[i-1][j-1] ==255 and img[i-1][j] ==255 and img[i-1][j+1]==255 and img[i][j-1] ==255 and img[i][j]==255 and img[i][j+1]==255 and img[i+1][j-1]==255 and img[i+1][j]==255 and img[i+1][j+1]==255):\n",
    "                dil[i][j] = 255\n",
    "            \n",
    "    return dil \n",
    "#dilation     \n",
    "def dilation(img_r,r,c):\n",
    "    for i in range(0,r-2):\n",
    "        for j in range(0,c-2):\n",
    "            if( img_r[i][j] ==255 or img_r[i][j+1] ==255 or img_r[i][j+2]==255 or img_r[i+1][j] ==255 or img_r[i+1][j+2]==255 or img_r[i+2][j]==255 or img_r[i+2][j+1]==255 or img_r[i+2][j+2]==255):\n",
    "                img_r[i][j] = 255\n",
    "    return img_r\n",
    "\n",
    "# Algorithm 1 - opening followed by closing\n",
    "# opening - erosion followed by dilation\n",
    "img2 = erosion(img)\n",
    "img4 = img2.copy()\n",
    "img3 = dilation(img4,r,c)\n",
    "\n",
    "#closing - dilation followed by erosion\n",
    "img5 = dilation(img3,r,c)\n",
    "img6 = img5.copy()\n",
    "img7 = erosion(img6)\n",
    "\n",
    "#Algorithm 2- clsoing followed by opening\n",
    "\n",
    "# closing - erosion followed by dilation\n",
    "imgxx = dilation(img,r,c)\n",
    "imgx1 = imgxx.copy()\n",
    "imgyy = erosion(imgx1)\n",
    "\n",
    "#opening - dilation followed by erosion\n",
    "imgy1 = erosion(imgyy)\n",
    "imgy2 = imgy1.copy()\n",
    "imgy3 = dilation(imgy2,r,c)\n",
    " \n",
    "     \n",
    "cv2.imwrite(\"D:\\\\sem1\\\\cvip\\\\proj3\\\\original_imgs\\\\res_noise1.jpg\",img7)\n",
    "cv2.imwrite(\"D:\\\\sem1\\\\cvip\\\\proj3\\\\original_imgs\\\\res_noise2.jpg\",imgy3)"
   ]
  },
  {
   "cell_type": "code",
   "execution_count": 7,
   "metadata": {},
   "outputs": [
    {
     "name": "stdout",
     "output_type": "stream",
     "text": [
      "False\n"
     ]
    }
   ],
   "source": [
    "# check if both the obtained images are equal\n",
    "print(np.array_equal(img3,opening))"
   ]
  },
  {
   "cell_type": "code",
   "execution_count": 12,
   "metadata": {},
   "outputs": [
    {
     "data": {
      "text/plain": [
       "True"
      ]
     },
     "execution_count": 12,
     "metadata": {},
     "output_type": "execute_result"
    }
   ],
   "source": [
    "# boundary extraction :\n",
    "#   1) do erosion of res_noise1 and subtract it with res_noise1(original image)\n",
    "#   2) do erosion of res_noise2 and subtract it with res_noise2(original image)\n",
    "\n",
    "b_img1 = img7.copy()\n",
    "b_img2 = imgy3.copy()\n",
    "b_img11 = erosion(b_img1)\n",
    "b_img22 = erosion(b_img2)\n",
    "\n",
    "res_bound1 = b_img1 - b_img11\n",
    "res_bound2 = b_img2 - b_img22    \n",
    "    \n",
    "cv2.imwrite(\"D:\\\\sem1\\\\cvip\\\\proj3\\\\original_imgs\\\\res_bound1.jpg\",res_bound1)\n",
    "cv2.imwrite(\"D:\\\\sem1\\\\cvip\\\\proj3\\\\original_imgs\\\\res_bound2.jpg\",res_bound2)"
   ]
  },
  {
   "cell_type": "code",
   "execution_count": null,
   "metadata": {},
   "outputs": [],
   "source": []
  }
 ],
 "metadata": {
  "kernelspec": {
   "display_name": "Python 3",
   "language": "python",
   "name": "python3"
  },
  "language_info": {
   "codemirror_mode": {
    "name": "ipython",
    "version": 3
   },
   "file_extension": ".py",
   "mimetype": "text/x-python",
   "name": "python",
   "nbconvert_exporter": "python",
   "pygments_lexer": "ipython3",
   "version": "3.6.7"
  }
 },
 "nbformat": 4,
 "nbformat_minor": 2
}
