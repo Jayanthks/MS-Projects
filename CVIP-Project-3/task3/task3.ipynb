{
 "cells": [
  {
   "cell_type": "code",
   "execution_count": 87,
   "metadata": {},
   "outputs": [],
   "source": [
    "import numpy as np\n",
    "import cv2\n",
    "\n",
    "def transform(image):\n",
    "    image_copy = image.copy()\n",
    "    for i in range(image.shape[0]):\n",
    "        for j in range(image.shape[1]):\n",
    "            image_copy[i][j] = image[image.shape[0]-i-1][image.shape[1]-j-1]\n",
    "    return image_copy\n",
    "\n",
    "def conv(image, kernel):\n",
    "    kernel = transform(kernel)\n",
    "    image_h = image.shape[0]\n",
    "    image_w = image.shape[1]\n",
    "    kernel_h = kernel.shape[0]\n",
    "    kernel_w = kernel.shape[1]\n",
    "    h = kernel_h//2\n",
    "    w = kernel_w//2\n",
    "    image_conv = np.zeros(image.shape)\n",
    "    for i in range(h, image_h-h):\n",
    "        for j in range(w, image_w-w):\n",
    "            sum = 0\n",
    "\n",
    "            for m in range(kernel_h):\n",
    "                for n in range(kernel_w):\n",
    "                    sum = (sum + kernel[m][n] * image[i-h+m][j-w+n])\n",
    "            \n",
    "            image_conv[i][j] = sum\n",
    "\n",
    "    return image_conv\n",
    "\n",
    "def norm(img1, img2):\n",
    "    img_copy = np.zeros(img1.shape)\n",
    "    for i in range(img1.shape[0]):\n",
    "        for j in range(img1.shape[1]):\n",
    "            q = (img1[i][j]*2 + img2[i][j]*2)*(1/2)\n",
    "            if(q>90):\n",
    "                img_copy[i][j] = 255\n",
    "            else:\n",
    "                img_copy[i][j] = 0\n",
    "    return img_copy"
   ]
  },
  {
   "cell_type": "code",
   "execution_count": 88,
   "metadata": {},
   "outputs": [],
   "source": [
    "def hough_lines_draw(img1,img2,outfile,outfile2, peaks, rhos, thetas):\n",
    "    for peak in peaks:\n",
    "        rho = rhos[peak[0]]\n",
    "        theta = thetas[peak[1]] * np.pi / 180.0\n",
    "        a = np.cos(theta)\n",
    "        b = np.sin(theta)\n",
    "        pt0 = rho * np.array([a,b])            \n",
    "        pt1 = tuple((pt0 + 1000 * np.array([-b,a])).astype(int))\n",
    "        pt2 = tuple((pt0 - 1000 * np.array([-b,a])).astype(int))\n",
    "        if(pt1[0]<0):\n",
    "            #print(pt1[0])\n",
    "            #print(a,b)\n",
    "            cv2.line(img, pt1, pt2, (0,255,255), 3)\n",
    "        else:\n",
    "            cv2.line(img2,pt1,pt2,(0,255,0),3)\n",
    "    cv2.imwrite(outfile, img)\n",
    "    cv2.imwrite(outfile2, img2)\n",
    "    return img \n",
    "\n",
    "def hough_lines_dia(img1,outfile, peaks, rhos, thetas):\n",
    "    for peak in peaks:\n",
    "        rho = rhos[peak[0]]\n",
    "        theta = thetas[peak[1]] * np.pi / 360.0\n",
    "        a = np.cos(theta)\n",
    "        b = np.sin(theta)\n",
    "        pt0 = rho * np.array([a,b])            \n",
    "        pt1 = tuple((pt0 + 1000 * np.array([-b,a])).astype(int))\n",
    "        pt2 = tuple((pt0 - 1000 * np.array([-b,a])).astype(int))\n",
    "        cv2.line(img, pt1, pt2, (0,255,255), 3)\n",
    "    cv2.imwrite(outfile, img)\n",
    "    return img "
   ]
  },
  {
   "cell_type": "code",
   "execution_count": 89,
   "metadata": {},
   "outputs": [],
   "source": [
    "def hough_lines(img, rho_res=1, thetas=np.arange(-90,90,1)):\n",
    "    rho_max = int(np.linalg.norm(img.shape-np.array([1,1]), 2));\n",
    "    rhos = np.arange(-rho_max, rho_max, rho_res)\n",
    "    thetas -= min(min(thetas),0)\n",
    "    accumulator = np.zeros((len(rhos), len(thetas)), dtype=np.uint8)\n",
    "    yis, xis = np.nonzero(img) # use only edge points\n",
    "    for i in range(len(xis)):\n",
    "        x = xis[i]\n",
    "        y = yis[i]\n",
    "        temp_rhos = x * np.cos(np.deg2rad(thetas)) + y * np.sin(np.deg2rad(thetas))\n",
    "        temp_rhos = temp_rhos / rho_res + rho_max\n",
    "        m, n = accumulator.shape\n",
    "        valid_idxs = np.nonzero((temp_rhos < m) & (thetas < n))\n",
    "        temp_rhos = temp_rhos[valid_idxs]\n",
    "        temp_thetas = thetas[valid_idxs]\n",
    "        c = np.stack([temp_rhos,temp_thetas], 1)\n",
    "        cc = np.ascontiguousarray(c).view(np.dtype((np.void, c.dtype.itemsize * c.shape[1])))\n",
    "        _,i,counts = np.unique(cc, return_index=True, return_counts=True)\n",
    "        uc = c[i].astype(np.uint)\n",
    "        accumulator[uc[:,0], uc[:,1]] += counts.astype(np.uint)\n",
    "    accumulator = cv2.normalize(accumulator, accumulator, 0, 255,\n",
    "                                cv2.NORM_MINMAX, dtype=cv2.CV_8UC1)\n",
    "    return accumulator, thetas, rhos"
   ]
  },
  {
   "cell_type": "code",
   "execution_count": 90,
   "metadata": {},
   "outputs": [],
   "source": [
    "def clip(idx):\n",
    "    return int(max(idx,0))\n",
    "\n",
    "def hough_peaks(H, numpeaks=1, threshold=100, nhood_size=5):\n",
    "    peaks = np.zeros((numpeaks,2), dtype=np.uint64)\n",
    "    temp_H = H.copy()\n",
    "    for i in range(numpeaks):\n",
    "        _,max_val,_,max_loc = cv2.minMaxLoc(temp_H) # find maximum peak\n",
    "        if max_val > threshold:\n",
    "            peaks[i] = max_loc\n",
    "            (c,r) = max_loc\n",
    "            t = nhood_size//2.0\n",
    "            temp_H[clip(r-t):int(r+t+1), clip(c-t):int(c+t+1)] = 0\n",
    "        else:\n",
    "            peaks = peaks[:i]\n",
    "            break\n",
    "    return peaks[:,::-1]"
   ]
  },
  {
   "cell_type": "code",
   "execution_count": 91,
   "metadata": {},
   "outputs": [
    {
     "name": "stdout",
     "output_type": "stream",
     "text": [
      "-573\n",
      "-440\n",
      "-498\n",
      "-596\n",
      "-343\n",
      "-379\n",
      "-535\n",
      "-632\n",
      "-415\n",
      "-660\n"
     ]
    },
    {
     "data": {
      "text/plain": [
       "array([[  0,   0,   0, ..., 169, 170, 170],\n",
       "       [  0,   0,   0, ..., 167, 168, 168],\n",
       "       [  0,   0,   0, ..., 169, 170, 170],\n",
       "       ...,\n",
       "       [  0,   0,   0, ...,   0,   0,   0],\n",
       "       [  0,   0,   0, ...,   0,   0,   0],\n",
       "       [  0,   0,   0, ...,   0,   0,   0]], dtype=uint8)"
      ]
     },
     "execution_count": 91,
     "metadata": {},
     "output_type": "execute_result"
    }
   ],
   "source": [
    "#please change paths before running\n",
    "img = cv2.imread('D:\\\\sem1\\\\cvip\\\\proj3\\\\original_imgs\\\\hough.jpg', cv2.IMREAD_GRAYSCALE)\n",
    "img2 = cv2.imread('D:\\\\sem1\\\\cvip\\\\proj3\\\\original_imgs\\\\hough.jpg', cv2.IMREAD_GRAYSCALE)\n",
    "sobel_x = np.array([\n",
    "           [-1,0,1],\n",
    "           [-2,0,2],\n",
    "           [-1,0,1]\n",
    "           ])\n",
    "sobel_y = np.array([\n",
    "           [1,2,1],\n",
    "           [0,0,0],\n",
    "           [-1,-2,-1]\n",
    "           ])\n",
    "imgx = conv(img,sobel_x)\n",
    "imgy = conv(img,sobel_y)\n",
    "edge_img = norm(imgx,imgy)\n",
    "acc, thetas, rhos = hough_lines(edge_img)\n",
    "peaks = hough_peaks(acc, numpeaks=18, threshold=150, nhood_size=20)\n",
    "color_img1 = cv2.cvtColor(img, cv2.COLOR_GRAY2BGR)\n",
    "color_img2 = cv2.cvtColor(img2, cv2.COLOR_GRAY2BGR)\n",
    "hough_lines_draw(color_img1,color_img2, 'D:\\\\sem1\\\\cvip\\\\proj3\\\\original_imgs\\\\blue_line.jpg','D:\\\\sem1\\\\cvip\\\\proj3\\\\original_imgs\\\\red_line.jpg', peaks, rhos, thetas)\n",
    "#hough_lines_dia(color_img2,'D:\\\\sem1\\\\cvip\\\\proj3\\\\original_imgs\\\\dia_line.jpg', peaks, rhos, thetas)"
   ]
  },
  {
   "cell_type": "code",
   "execution_count": null,
   "metadata": {},
   "outputs": [],
   "source": []
  }
 ],
 "metadata": {
  "kernelspec": {
   "display_name": "Python 3",
   "language": "python",
   "name": "python3"
  },
  "language_info": {
   "codemirror_mode": {
    "name": "ipython",
    "version": 3
   },
   "file_extension": ".py",
   "mimetype": "text/x-python",
   "name": "python",
   "nbconvert_exporter": "python",
   "pygments_lexer": "ipython3",
   "version": "3.6.7"
  }
 },
 "nbformat": 4,
 "nbformat_minor": 2
}
