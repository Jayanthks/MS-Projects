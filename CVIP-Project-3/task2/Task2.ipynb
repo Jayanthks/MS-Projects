{
 "cells": [
  {
   "cell_type": "code",
   "execution_count": 6,
   "metadata": {},
   "outputs": [
    {
     "name": "stdout",
     "output_type": "stream",
     "text": [
      "445 249\n"
     ]
    },
    {
     "data": {
      "text/plain": [
       "True"
      ]
     },
     "execution_count": 6,
     "metadata": {},
     "output_type": "execute_result"
    }
   ],
   "source": [
    "import cv2\n",
    "import numpy as np\n",
    "import skimage.color\n",
    "import matplotlib.pyplot as plt\n",
    "\n",
    "img = cv2.imread(\"D:\\\\sem1\\\\cvip\\\\proj3\\\\original_imgs\\\\point.jpg\")\n",
    "im = cv2.cvtColor(img, cv2.COLOR_BGR2GRAY)\n",
    "# Mask over the image\n",
    "def mask(image, kernel):\n",
    "    kernel_hig = kernel.shape[0]\n",
    "    kernel_wid = kernel.shape[1]\n",
    "    image_hig = image.shape[0]\n",
    "    image_wid = image.shape[1]\n",
    "    h = kernel_high//2\n",
    "    w = kernel_widh//2\n",
    "    image_conv = np.zeros(image.shape)\n",
    "    for i in range(h, image_hig-h):\n",
    "        for j in range(w, image_wid-w):\n",
    "            total = 0\n",
    "            for m in range(kernel_h):\n",
    "                for n in range(kernel_w):\n",
    "                    total = (total + kernel[m][n] * image[i-h+m][j-w+n])\n",
    "            #check for static threshold value to \n",
    "            if(total > 310):\n",
    "                image_conv[i][j] = 255\n",
    "    return image_conv\n",
    "kernel=np.array([\n",
    "        [0,1,0],\n",
    "        [1,-4,1],\n",
    "        [0,1,0] ])\n",
    "#mask with laplacian kernel \n",
    "imgy= mask(im, kernel)\n",
    "img_color = skimage.color.gray2rgb(imgy)        \n",
    "img_color1 = skimage.color.gray2rgb(imgy)\n",
    "font                   = cv2.FONT_HERSHEY_TRIPLEX\n",
    "bottomLeftCornerOfText = (10,500)\n",
    "fontScale              = 0.5\n",
    "fontColor              = (255,255,0)\n",
    "lineType               = 1\n",
    "for n in range(imgy.shape[1]):\n",
    "    for m in range(imgy.shape[0]):\n",
    "        if(imgy[m][n] != 0):\n",
    "            print(n,m)\n",
    "            text = str(n) +\" , \" + str(m)\n",
    "            cv2.putText(img_color1,text,(n-40, m+40),font,fontScale,fontColor,lineType)\n",
    "cv2.imwrite(\"D:\\\\sem1\\\\cvip\\\\proj3\\\\original_imgs\\\\point_labelled.jpg\", img_color1)\n",
    "cv2.imwrite(\"D:\\\\sem1\\\\cvip\\\\proj3\\\\original_imgs\\\\point_detected.jpg\", img_color)\n",
    "\n",
    "\n"
   ]
  },
  {
   "cell_type": "code",
   "execution_count": 33,
   "metadata": {},
   "outputs": [
    {
     "data": {
      "image/png": "[encoded data removed]",
      "text/plain": [
       "<Figure size 432x288 with 1 Axes>"
      ]
     },
     "metadata": {
      "needs_background": "light"
     },
     "output_type": "display_data"
    }
   ],
   "source": [
    "im = cv2.imread(\"D:\\\\sem1\\\\cvip\\\\proj3\\\\original_imgs\\\\segment.jpg\")\n",
    "img = cv2.cvtColor(im, cv2.COLOR_BGR2GRAY)\n",
    "img_values = [0] * 256\n",
    "for i in range(img.shape[0]):\n",
    "    for j in range(img.shape[1]):\n",
    "        img_values[img[i,j]]+=1\n",
    "b = []\n",
    "for i in range(0,256):\n",
    "    b.append(i)\n",
    "plt.bar(b, img_values)\n",
    "plt.xlabel('pixel values')\n",
    "plt.ylabel('Intensity')\n",
    "fig.savefig('output/Task2B_Histogram.png')\n",
    "plt.show()"
   ]
  },
  {
   "cell_type": "code",
   "execution_count": 31,
   "metadata": {},
   "outputs": [
    {
     "name": "stdout",
     "output_type": "stream",
     "text": [
      "138 22\n",
      "425 22\n",
      "425 284\n",
      "138 284\n"
     ]
    },
    {
     "data": {
      "text/plain": [
       "True"
      ]
     },
     "execution_count": 31,
     "metadata": {},
     "output_type": "execute_result"
    }
   ],
   "source": [
    "def threshold(img):\n",
    "    image_res = np.zeros([img.shape[0], img.shape[1]])\n",
    "    #setting threshold by trail and error\n",
    "    t = 200\n",
    "    for i in range(0, img.shape[0]):\n",
    "        for j in range(0, img.shape[1]):\n",
    "            if(img[i][j] > t):\n",
    "                image_res[i][j] = img[i][j]\n",
    "    return image_res\n",
    "seg_img = threshold(img)\n",
    "cv2.imwrite( 'D:\\\\sem1\\\\cvip\\\\proj3\\\\original_imgs\\\\segmented.jpg',seg_img)\n",
    "min_x=None\n",
    "max_x=None\n",
    "min_y=None\n",
    "max_y=None\n",
    "img_x=[]\n",
    "img_y=[]\n",
    "l = seg_img.shape\n",
    "h = l[0]\n",
    "w = l[1]\n",
    "t =200\n",
    "# drawing a rectangular box around max and min \n",
    "for i in range(0, h):\n",
    "    for j in range(0, w):\n",
    "        if (seg_img[i,j]>t):\n",
    "            img_x.append(j)\n",
    "            img_y.append(i)\n",
    "img_x=np.array(img_x)\n",
    "img_y=np.array(img_y)\n",
    "\n",
    "min_x = np.amin(img_x)\n",
    "max_x = np.amax(img_x)\n",
    "min_y = np.amin(img_y)\n",
    "max_y = np.amax(img_y)\n",
    "print(min_x, min_y)\n",
    "print(max_x, min_y)\n",
    "print(max_x, max_y)\n",
    "print(min_x, max_y)\n",
    "seg_img[min_y:max_y, min_x] = 250\n",
    "seg_img[min_y:max_y, max_x] = 250\n",
    "seg_img[min_y, min_x:max_x] = 250\n",
    "seg_img[max_y, min_x:max_x] = 250\n",
    "cv2.imwrite( 'D:\\\\sem1\\\\cvip\\\\proj3\\\\original_imgs\\\\segment_box.jpg',seg_img)\n",
    "\n"
   ]
  },
  {
   "cell_type": "code",
   "execution_count": null,
   "metadata": {},
   "outputs": [],
   "source": []
  }
 ],
 "metadata": {
  "kernelspec": {
   "display_name": "Python 3",
   "language": "python",
   "name": "python3"
  },
  "language_info": {
   "codemirror_mode": {
    "name": "ipython",
    "version": 3
   },
   "file_extension": ".py",
   "mimetype": "text/x-python",
   "name": "python",
   "nbconvert_exporter": "python",
   "pygments_lexer": "ipython3",
   "version": "3.6.7"
  }
 },
 "nbformat": 4,
 "nbformat_minor": 2
}
